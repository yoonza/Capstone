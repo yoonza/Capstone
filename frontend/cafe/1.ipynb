{
 "cells": [
  {
   "cell_type": "code",
   "execution_count": null,
   "metadata": {},
   "outputs": [],
   "source": [
    "from selenium import webdriver  # Import the webdriver module\n",
    "from webdriver_manager.chrome import ChromeDriverManager\n"
   ]
  },
  {
   "cell_type": "code",
   "execution_count": null,
   "metadata": {},
   "outputs": [],
   "source": [
    "driver = webdriver.Chrome(ChromeDriverManager().install())\n",
    "\n",
    "URL = \"https://www.starbucks.co.kr/store/store_map.do\"\n",
    "driver.get(url=URL)\n",
    "\n",
    "driver.implicitly_wait(time_to_wait=10)"
   ]
  },
  {
   "cell_type": "code",
   "execution_count": null,
   "metadata": {},
   "outputs": [],
   "source": [
    "from selenium.webdriver.common.by import By\n",
    "from selenium.webdriver.support.ui import WebDriverWait\n",
    "from selenium.webdriver.support import expected_conditions as EC\n",
    "\n",
    "wait = WebDriverWait(driver, 10)\n",
    "element = wait.until(EC.element_to_be_clickable((By.CSS_SELECTOR, \"#container > div > form > fieldset > div > section > article.find_store_cont > article > header.loca_search > h3 > a\")))\n",
    "element.click()\n",
    "\n"
   ]
  },
  {
   "cell_type": "code",
   "execution_count": null,
   "metadata": {},
   "outputs": [],
   "source": [
    "location_list = driver.find_elements(By.CSS_SELECTOR, \"#container > div > form > fieldset > div > section > article.find_store_cont > article > article > div.loca_step1 > div.loca_step1_cont > ul > li > a\")\n",
    "\n",
    "for location in location_list:\n",
    "    print(location.text,end=' ')"
   ]
  },
  {
   "cell_type": "code",
   "execution_count": null,
   "metadata": {},
   "outputs": [],
   "source": [
    "river.find_element(By.CSS_SELECTOR,\"#mCSB_2_container > ul > li:nth-child(1) > a\").click()"
   ]
  },
  {
   "cell_type": "code",
   "execution_count": null,
   "metadata": {},
   "outputs": [],
   "source": [
    "data_name_list = []\n",
    "data_lat_list = []\n",
    "data_long_list = []\n",
    "매장_list = driver.find_elements(By.CSS_SELECTOR,\"#mCSB_3_container > ul > li\")\n",
    "\n",
    "for 매장 in 매장_list:\n",
    "    data_name_list.append(매장.get_attribute(\"data-name\"))\n",
    "    data_lat_list.append(매장.get_attribute(\"data-lat\"))\n",
    "    data_long_list.append(매장.get_attribute(\"data-long\"))\n",
    "\n",
    "print(data_name_list[0:10])\n",
    "print(data_lat_list[0:10])\n",
    "print(data_long_list[0:10])"
   ]
  },
  {
   "cell_type": "code",
   "execution_count": null,
   "metadata": {},
   "outputs": [],
   "source": [
    "location_search = driver.find_element(By.CSS_SELECTOR, \"#container > div > form > fieldset > div > section > article.find_store_cont > article > header.loca_search > h3 > a\")\n",
    "location_search.click()\n",
    "location_list = driver.find_elements(By.CSS_SELECTOR,\"#container > div > form > fieldset > div > section > article.find_store_cont > article > article > div.loca_step1 > div.loca_step1_cont > ul > li > a\")\n",
    "\n",
    "data_location_list = []\n",
    "data_name_list = []\n",
    "data_lat_list = []\n",
    "data_long_list = []\n",
    "\n",
    "for location in location_list:\n",
    "    지역 = location.text\n",
    "    print(지역,\"[지역버튼] 클릭\")\n",
    "    location.click()\n",
    "    time.sleep(3.0)\n",
    "\n",
    "    try: \n",
    "        print(\"전체 클릭\")\n",
    "        driver.find_element(By.CSS_SELECTOR,\"#mCSB_2_container > ul > li:nth-child(1) > a\").click()\n",
    "        time.sleep(3.0)\n",
    "    except:\n",
    "        print(\"전체가 없어 계속 진행합니다\")\n",
    "        time.sleep(3.0)\n",
    "\n",
    "    print(지역,\"데이터수집중\")\n",
    "    매장_list = driver.find_elements(By.CSS_SELECTOR,\"#mCSB_3_container > ul > li\")\n",
    "    for 매장 in 매장_list:\n",
    "        data_location_list.append(지역)\n",
    "        data_name_list.append(매장.get_attribute(\"data-name\"))\n",
    "        data_lat_list.append(매장.get_attribute(\"data-lat\"))\n",
    "        data_long_list.append(매장.get_attribute(\"data-long\"))\n",
    "\n",
    "    print(\"[지역검색버튼] 클릭\")\n",
    "    location_search.click()\n",
    "    time.sleep(3.0)"
   ]
  },
  {
   "cell_type": "code",
   "execution_count": null,
   "metadata": {},
   "outputs": [],
   "source": [
    "import pandas as pd\n",
    "\n",
    "df = pd.DataFrame()\n",
    "\n",
    "print(data_location_list)\n",
    "print(data_name_list)\n",
    "print(data_lat_list)\n",
    "print(data_long_list)\n",
    "\n",
    "df[\"지역\"] = data_location_list\n",
    "df[\"이름\"] = data_name_list\n",
    "df[\"lat\"] = data_lat_list\n",
    "df[\"long\"] = data_long_list\n",
    "\n",
    "df.to_excel(\"전국스타벅스.xlsx\")"
   ]
  },
  {
   "cell_type": "code",
   "execution_count": null,
   "metadata": {},
   "outputs": [],
   "source": []
  }
 ],
 "metadata": {
  "kernelspec": {
   "display_name": "Python 3.9.6 64-bit",
   "language": "python",
   "name": "python3"
  },
  "language_info": {
   "name": "python",
   "version": "3.9.6"
  },
  "orig_nbformat": 4,
  "vscode": {
   "interpreter": {
    "hash": "31f2aee4e71d21fbe5cf8b01ff0e069b9275f58929596ceb00d14d90e3e16cd6"
   }
  }
 },
 "nbformat": 4,
 "nbformat_minor": 2
}
